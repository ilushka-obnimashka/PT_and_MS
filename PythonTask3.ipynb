{
 "cells": [
  {
   "cell_type": "markdown",
   "id": "50cd223b",
   "metadata": {},
   "source": [
    "## Метод бутстрапа"
   ]
  },
  {
   "cell_type": "markdown",
   "id": "4ea0e0b8",
   "metadata": {
    "notebookRunGroups": {
     "groupValue": "1"
    }
   },
   "source": [
    "### Теоритическая справка"
   ]
  },
  {
   "cell_type": "markdown",
   "id": "e3786b97",
   "metadata": {},
   "source": [
    "**Доверительный интервал** - это диапазон значений, который с определенной степенью уверенности включает истинне значение параметра генеральной совокупности на основе выборочных данных. Проще говоря, это интервал, в котором, как мы предпологаем, находится истинное значение параметра, и мы можем указать насколько уверены в этом предположении (обычно в процентах, например 95%)."
   ]
  },
  {
   "cell_type": "markdown",
   "id": "cb6dd3d5",
   "metadata": {
    "notebookRunGroups": {
     "groupValue": "1"
    }
   },
   "source": [
    "**Бутстрап** — это вычислительный статистический метод, который позволяет оценить распределение выборочной статистики (например: медиана, эксцесс, куртозис, среднее значение) путем многократной генерации выборок методом Монте-Карло на основе уже имеющейся выборки."
   ]
  },
  {
   "cell_type": "markdown",
   "id": "357e5756",
   "metadata": {
    "notebookRunGroups": {
     "groupValue": "2"
    }
   },
   "source": [
    "**Бутстрап-выборка** — это псевдовыборка с повторениями, извлеченная из исходной выборки, то есть в бутстрап-выборке может попасться несколько раз одно и то же наблюдение из исходной выборки. Более того, бутстрап-выборка должна быть равной по объему исходной выборке."
   ]
  },
  {
   "cell_type": "markdown",
   "id": "a2a33eec",
   "metadata": {},
   "source": [
    "#### Основные шаги бутстрапа"
   ]
  },
  {
   "cell_type": "markdown",
   "id": "5fa43882",
   "metadata": {},
   "source": [
    "1. ***Выборка с возвращением.***. \n",
    "Из исходного набора данных $ X_1, \\ldots, X_n $ многократно (M раз) генерируются новые выборки такого же размера:\n",
    "\n",
    "$$X^*_{1;1}, X^*_{2;1}, \\ldots, X^*_{n;1};$$\n",
    "$$X^*_{1;2}, X^*_{2;2}, \\ldots, X^*_{n;2};$$\n",
    "$$X^*_{1;3}, X^*_{2;3}, \\ldots, X^*_{n;3};$$\n",
    "$$X^*_{1;4}, X^*_{2;4}, \\ldots, X^*_{n;4};$$\n",
    "\n",
    "2. ***Вычисление статистики.***\n",
    "Для каждой бутстрап-выборки вычисляется интересующая нас статистика.\n",
    "\n",
    "3. ***Оценка распределения.***\n",
    "Полученные значения статистики образуют новую выборку, которая используется для оценки доверительных интервалов и других характеристик. Для получения ДИ уровня 95% можно выбросить по 2.5% самых маленьких и самых больших элементов этой выборки, а в качестве ДИ взять наименьший интервал, слдержащий все оставшиеся элементы."
   ]
  },
  {
   "cell_type": "code",
   "execution_count": 53,
   "id": "5323566b",
   "metadata": {},
   "outputs": [],
   "source": [
    "import numpy as np\n",
    "import matplotlib.pyplot as plt\n",
    "\n",
    "plt.style.use('ggplot')"
   ]
  },
  {
   "cell_type": "code",
   "execution_count": 54,
   "id": "e4c76dc8",
   "metadata": {},
   "outputs": [
    {
     "data": {
      "text/plain": [
       "array([0.46926809, 3.01012143, 1.31674569, ..., 2.93196746, 0.50664768,\n",
       "       0.24480191])"
      ]
     },
     "execution_count": 54,
     "metadata": {},
     "output_type": "execute_result"
    }
   ],
   "source": [
    "np.random.seed(42)\n",
    "x = np.random.exponential(scale = 1.0, size = 10000)\n",
    "x"
   ]
  },
  {
   "cell_type": "code",
   "execution_count": 55,
   "id": "9e0c549c",
   "metadata": {},
   "outputs": [],
   "source": [
    "def generating_bootstrap_sample(x, ammount_samples = 100):\n",
    "    \"\"\"\n",
    "    The function is designed to generate bootstrap samples from input data\n",
    "    Parametrs: \n",
    "    x: input-data from which bootstrap samples are generated.\n",
    "    ammount_samples: number of bootstrap samples to generate.\n",
    "\n",
    "    returns:\n",
    "    numpy.ndarray: An array of shape(N, ammount_samples) containing the botstrap samples.\n",
    "    \"\"\"\n",
    "\n",
    "    N = x.size\n",
    "    samples = np.random.choice(x, size = (ammount_samples, N), replace=True)\n",
    "\n",
    "    return samples"
   ]
  },
  {
   "cell_type": "code",
   "execution_count": 56,
   "id": "5a17639b",
   "metadata": {},
   "outputs": [],
   "source": [
    "def calculating_statistics_for_samples(samples, statistic_func):\n",
    "    \"\"\"\n",
    "    The function is calculating statistics for each boorstrap samples.\n",
    "    Parametrs: \n",
    "    samples: bootstrap samples for which statistics need to be calculated.\n",
    "    statistic_func: function for calculating statistics.\n",
    "\n",
    "    returns:\n",
    "    numpy.ndarray: An array of statistics (1, ammount_samples) containing the statisticd for each bootstrap samples.\n",
    "    \"\"\"\n",
    "    statistics = np.apply_along_axis(statistic_func, 1, samples)\n",
    "    return statistics"
   ]
  },
  {
   "cell_type": "markdown",
   "id": "42e779f9",
   "metadata": {},
   "source": [
    "#### MAD"
   ]
  },
  {
   "cell_type": "markdown",
   "id": "05767cff",
   "metadata": {},
   "source": [
    "***Медианное абсолютное отклонение (MAD)*** - это мера разброса данных $ X_1, \\ldots X_n $, которая менее чувствительна к выбросам по сравнению со стандартным отклонением. Она определяется как медиана абсолютных отклонений наблюдений от общей медианы выборки:\n",
    "$$ MAD = median(\\{|X_i - median(X_1, \\ldots X_n)|\\}^n_{i=1})$$\n"
   ]
  },
  {
   "cell_type": "markdown",
   "id": "0cc1a8d4",
   "metadata": {},
   "source": [
    "#### 95% ДИ для MAD"
   ]
  },
  {
   "cell_type": "code",
   "execution_count": 57,
   "id": "124e9524",
   "metadata": {},
   "outputs": [
    {
     "data": {
      "text/plain": [
       "(1000, 10000)"
      ]
     },
     "execution_count": 57,
     "metadata": {},
     "output_type": "execute_result"
    }
   ],
   "source": [
    "MAD_samples = generating_bootstrap_sample(x, 10**3)\n",
    "MAD_samples.shape"
   ]
  },
  {
   "cell_type": "code",
   "execution_count": 58,
   "id": "fb58c9b1",
   "metadata": {},
   "outputs": [],
   "source": [
    "def calculating_MAD (data):\n",
    "    \"\"\"\n",
    "    The function is calculating MAD fors data.\n",
    "    Parametrs: \n",
    "    data: sample for which need to be calculated MAD\n",
    "    \n",
    "    returns:\n",
    "    mad \n",
    "    \"\"\"\n",
    "    median = np.median(data)\n",
    "    mad = np.median(np.abs(data - median))\n",
    "    return mad"
   ]
  },
  {
   "cell_type": "code",
   "execution_count": 59,
   "id": "4900b430",
   "metadata": {},
   "outputs": [
    {
     "data": {
      "text/plain": [
       "array([0.47928009, 0.4838636 , 0.4730015 , 0.45752438, 0.46275853,\n",
       "       0.47609239, 0.47249775, 0.45346041, 0.47526678, 0.45455526,\n",
       "       0.45818736, 0.46941899, 0.46895034, 0.47585446, 0.46860246,\n",
       "       0.47087333, 0.4563874 , 0.47205007, 0.47696631, 0.46416041,\n",
       "       0.46147064, 0.45309185, 0.46805876, 0.46217259, 0.4652459 ,\n",
       "       0.46054516, 0.47036514, 0.47101829, 0.46430271, 0.47076421,\n",
       "       0.4806918 , 0.47649426, 0.46400983, 0.47124568, 0.45733561,\n",
       "       0.45710043, 0.46110172, 0.4529176 , 0.47319993, 0.46408025,\n",
       "       0.46910934, 0.47450092, 0.45775764, 0.47081226, 0.4783269 ,\n",
       "       0.47752912, 0.46891836, 0.47574162, 0.45970004, 0.47321866,\n",
       "       0.47725244, 0.47563154, 0.48055216, 0.46212803, 0.47816825,\n",
       "       0.45847669, 0.46727802, 0.47724146, 0.45818031, 0.46065297,\n",
       "       0.46589637, 0.45965832, 0.46511718, 0.46858134, 0.46826216,\n",
       "       0.47658307, 0.4620578 , 0.47423246, 0.48367241, 0.46022338,\n",
       "       0.47933861, 0.47552445, 0.4645688 , 0.46808893, 0.46316159,\n",
       "       0.45700107, 0.4780035 , 0.47084105, 0.4656055 , 0.46478695,\n",
       "       0.46871376, 0.47032036, 0.46518321, 0.46875872, 0.46799563,\n",
       "       0.4662029 , 0.4640268 , 0.46458901, 0.46422984, 0.46110848,\n",
       "       0.47402876, 0.47488478, 0.46523778, 0.47248255, 0.47410026,\n",
       "       0.46700336, 0.46806964, 0.46058194, 0.4730751 , 0.46304802,\n",
       "       0.44979184, 0.46823103, 0.47157316, 0.47685017, 0.46372709,\n",
       "       0.46743666, 0.46955346, 0.47411841, 0.46120771, 0.46921368,\n",
       "       0.47499061, 0.47722307, 0.46488051, 0.46544005, 0.47590909,\n",
       "       0.46584834, 0.46508748, 0.47260865, 0.46893672, 0.46688687,\n",
       "       0.46790874, 0.47429423, 0.46022409, 0.48023126, 0.47031326,\n",
       "       0.48222871, 0.47148148, 0.46695892, 0.47895322, 0.46931815,\n",
       "       0.46458039, 0.47169351, 0.47408821, 0.47027566, 0.45816756,\n",
       "       0.47149034, 0.47845631, 0.47000959, 0.46002672, 0.4811299 ,\n",
       "       0.4595491 , 0.46201252, 0.46380432, 0.46697348, 0.48083643,\n",
       "       0.46907253, 0.47497399, 0.46563984, 0.45559993, 0.47636547,\n",
       "       0.45838194, 0.4693914 , 0.47825653, 0.47482045, 0.46068659,\n",
       "       0.46455114, 0.46579639, 0.45814444, 0.46047868, 0.46356699,\n",
       "       0.46943544, 0.48043177, 0.46707924, 0.46646783, 0.47393568,\n",
       "       0.46953881, 0.46098866, 0.47402335, 0.46693356, 0.45897144,\n",
       "       0.47733787, 0.47858298, 0.45769044, 0.477299  , 0.47389105,\n",
       "       0.46511755, 0.46144393, 0.47816713, 0.47141331, 0.47805302,\n",
       "       0.46706141, 0.47422021, 0.48070353, 0.4705679 , 0.46372167,\n",
       "       0.47685848, 0.45820806, 0.46860635, 0.45631783, 0.46472266,\n",
       "       0.45997747, 0.46340415, 0.46902054, 0.45872314, 0.46609668,\n",
       "       0.47106371, 0.4635491 , 0.47427094, 0.4725526 , 0.4829309 ,\n",
       "       0.46633688, 0.47331352, 0.47364102, 0.47517494, 0.46935849,\n",
       "       0.46033367, 0.47626952, 0.46867719, 0.473297  , 0.4712293 ,\n",
       "       0.46242001, 0.47381855, 0.46818729, 0.47031203, 0.46707704,\n",
       "       0.45973283, 0.45875515, 0.47231146, 0.46295535, 0.47127035,\n",
       "       0.4528636 , 0.46821498, 0.47885093, 0.47188934, 0.46156702,\n",
       "       0.47946019, 0.46418357, 0.4749995 , 0.47007071, 0.47222869,\n",
       "       0.4754942 , 0.47048174, 0.45992059, 0.47230004, 0.46890839,\n",
       "       0.47077259, 0.47423949, 0.4682855 , 0.47614345, 0.47981801,\n",
       "       0.46427617, 0.48256771, 0.46821805, 0.46492397, 0.46731025,\n",
       "       0.4704169 , 0.46662339, 0.45944325, 0.47642413, 0.46496093,\n",
       "       0.47359807, 0.4548975 , 0.46539378, 0.46841978, 0.47832888,\n",
       "       0.47029727, 0.4613595 , 0.47618266, 0.48279968, 0.47278352,\n",
       "       0.46429843, 0.4814165 , 0.46167117, 0.47604023, 0.47346117,\n",
       "       0.46667691, 0.46633688, 0.47644268, 0.46569205, 0.45968962,\n",
       "       0.46517589, 0.46748764, 0.45265961, 0.46604711, 0.4732174 ,\n",
       "       0.47105404, 0.4700168 , 0.4739354 , 0.46940911, 0.460825  ,\n",
       "       0.46104263, 0.46327264, 0.4601645 , 0.45855974, 0.46517019,\n",
       "       0.46675041, 0.47284381, 0.46571132, 0.46283336, 0.4695017 ,\n",
       "       0.46915048, 0.46166579, 0.46846679, 0.47899113, 0.47951187,\n",
       "       0.4715467 , 0.46744967, 0.46400908, 0.47940655, 0.4619886 ,\n",
       "       0.46386242, 0.46675013, 0.47509408, 0.472508  , 0.47551758,\n",
       "       0.46890696, 0.46032307, 0.46151324, 0.47308284, 0.46911285,\n",
       "       0.46236883, 0.4689984 , 0.4567748 , 0.46053924, 0.46589638,\n",
       "       0.47519796, 0.47141327, 0.47009075, 0.4645973 , 0.46903668,\n",
       "       0.47159906, 0.46490438, 0.47461334, 0.46888977, 0.47174974,\n",
       "       0.47295514, 0.46494897, 0.46874399, 0.46752113, 0.47601664,\n",
       "       0.46696123, 0.47288053, 0.4717539 , 0.48140277, 0.47510541,\n",
       "       0.4684111 , 0.45773482, 0.4566379 , 0.47078631, 0.45981776,\n",
       "       0.46568728, 0.469562  , 0.46786859, 0.47854226, 0.47138054,\n",
       "       0.46005211, 0.47204584, 0.47561497, 0.46845761, 0.48341574,\n",
       "       0.4682936 , 0.48306273, 0.46013093, 0.46617575, 0.47595807,\n",
       "       0.47302142, 0.47046269, 0.47436017, 0.4592054 , 0.47879181,\n",
       "       0.45789273, 0.4677106 , 0.47833587, 0.4657786 , 0.47249805,\n",
       "       0.46385634, 0.46867424, 0.47335941, 0.47252025, 0.46445553,\n",
       "       0.46967142, 0.4776433 , 0.47607786, 0.46263517, 0.47183165,\n",
       "       0.48416401, 0.4706936 , 0.45914227, 0.46806014, 0.47800825,\n",
       "       0.46959182, 0.46927399, 0.46346696, 0.47647974, 0.46462328,\n",
       "       0.48025828, 0.47194284, 0.46707124, 0.463762  , 0.46825688,\n",
       "       0.45776708, 0.45496456, 0.46768733, 0.47713069, 0.47042354,\n",
       "       0.47632737, 0.47212676, 0.47069477, 0.48762221, 0.47413638,\n",
       "       0.46130417, 0.46026747, 0.47462132, 0.47123837, 0.47588045,\n",
       "       0.46564888, 0.47576142, 0.47025825, 0.47651144, 0.47620038,\n",
       "       0.46237343, 0.47159319, 0.4711842 , 0.47031483, 0.4650584 ,\n",
       "       0.45682317, 0.47317352, 0.47243154, 0.47035025, 0.4723651 ,\n",
       "       0.47632737, 0.48282672, 0.46920451, 0.47651063, 0.47734576,\n",
       "       0.46650684, 0.47746803, 0.47823192, 0.45321442, 0.46298048,\n",
       "       0.47279117, 0.46853625, 0.46826216, 0.47779388, 0.4645116 ,\n",
       "       0.47502121, 0.47774022, 0.4767114 , 0.47440716, 0.48020289,\n",
       "       0.45886229, 0.46197556, 0.46832903, 0.4701986 , 0.47274668,\n",
       "       0.45750106, 0.47953169, 0.46550743, 0.46327196, 0.47270841,\n",
       "       0.47037283, 0.46263647, 0.48004515, 0.46250044, 0.47137163,\n",
       "       0.45985173, 0.46772517, 0.47224583, 0.45953523, 0.46315646,\n",
       "       0.46290274, 0.46589957, 0.47286067, 0.471133  , 0.47758397,\n",
       "       0.4718387 , 0.47757229, 0.47514624, 0.46234998, 0.46603219,\n",
       "       0.46977355, 0.46023868, 0.45591455, 0.46911664, 0.46020136,\n",
       "       0.46606702, 0.47219644, 0.4657898 , 0.46912434, 0.47124156,\n",
       "       0.47190199, 0.47568654, 0.47687003, 0.47975234, 0.45683644,\n",
       "       0.48124692, 0.4627213 , 0.45597124, 0.46366343, 0.47846748,\n",
       "       0.46710453, 0.4685191 , 0.461257  , 0.47245036, 0.46978148,\n",
       "       0.4694786 , 0.47374342, 0.4601892 , 0.47862091, 0.45791246,\n",
       "       0.45924515, 0.46052667, 0.46062839, 0.47306069, 0.46363607,\n",
       "       0.46639074, 0.47166921, 0.47799302, 0.4785055 , 0.46487913,\n",
       "       0.47256015, 0.46333589, 0.46735549, 0.47413883, 0.46940539,\n",
       "       0.47859018, 0.46982273, 0.46831241, 0.46991001, 0.47176586,\n",
       "       0.46037705, 0.46937034, 0.4749212 , 0.46078898, 0.46228196,\n",
       "       0.46964345, 0.4723933 , 0.46620806, 0.45742129, 0.46338075,\n",
       "       0.47152247, 0.45875173, 0.48067724, 0.47096591, 0.46741429,\n",
       "       0.47190178, 0.46266796, 0.46069353, 0.45932088, 0.45893038,\n",
       "       0.45927238, 0.46420907, 0.46844405, 0.4596012 , 0.45652448,\n",
       "       0.46033797, 0.47282774, 0.48108721, 0.4711682 , 0.47211378,\n",
       "       0.46328878, 0.47871026, 0.47896384, 0.46012884, 0.46552873,\n",
       "       0.46279953, 0.45814185, 0.47379264, 0.46374946, 0.47445557,\n",
       "       0.46044465, 0.46898174, 0.47996213, 0.46375559, 0.47924309,\n",
       "       0.47041759, 0.4645287 , 0.47708753, 0.46566732, 0.4696782 ,\n",
       "       0.46138064, 0.46153828, 0.45782362, 0.46960116, 0.47045275,\n",
       "       0.45242471, 0.47794949, 0.46291405, 0.4696137 , 0.46415665,\n",
       "       0.46412915, 0.47778724, 0.47502065, 0.48003157, 0.46936743,\n",
       "       0.47500812, 0.46319529, 0.47613317, 0.4604139 , 0.47385157,\n",
       "       0.46140014, 0.47032791, 0.4748359 , 0.47694752, 0.46205664,\n",
       "       0.4719455 , 0.46056431, 0.47107506, 0.47323807, 0.46942304,\n",
       "       0.47650753, 0.47350984, 0.47104681, 0.47189296, 0.47328198,\n",
       "       0.4711905 , 0.4624652 , 0.47523628, 0.46996616, 0.47483142,\n",
       "       0.45976806, 0.46655623, 0.47563245, 0.46974271, 0.4765316 ,\n",
       "       0.47287583, 0.45383446, 0.46873866, 0.47392492, 0.48369279,\n",
       "       0.47708089, 0.47065048, 0.46819907, 0.46898448, 0.46394011,\n",
       "       0.46729204, 0.46555055, 0.46195955, 0.45930455, 0.47745549,\n",
       "       0.45768035, 0.45712704, 0.47262493, 0.462218  , 0.46139951,\n",
       "       0.46892943, 0.47492922, 0.4631923 , 0.46627727, 0.46887681,\n",
       "       0.46239413, 0.47188692, 0.4674434 , 0.47315884, 0.47786105,\n",
       "       0.47840058, 0.46171354, 0.47088951, 0.46495945, 0.46236308,\n",
       "       0.45756772, 0.46370616, 0.4579116 , 0.45599669, 0.4684806 ,\n",
       "       0.46043805, 0.46296878, 0.45945511, 0.47488766, 0.47610832,\n",
       "       0.47156687, 0.4678476 , 0.47639285, 0.45918252, 0.46011456,\n",
       "       0.46491033, 0.45448061, 0.46945714, 0.47627557, 0.46969126,\n",
       "       0.45632496, 0.47716435, 0.46605141, 0.47307793, 0.47304186,\n",
       "       0.46214775, 0.46233469, 0.46945512, 0.47774898, 0.4608227 ,\n",
       "       0.47810642, 0.46093838, 0.4704458 , 0.47052189, 0.472235  ,\n",
       "       0.46758533, 0.46958164, 0.46021166, 0.4669976 , 0.47837496,\n",
       "       0.4794643 , 0.46998582, 0.47059021, 0.46274505, 0.4725065 ,\n",
       "       0.46164109, 0.47474856, 0.46678709, 0.46802317, 0.4632372 ,\n",
       "       0.46764344, 0.46272954, 0.4728766 , 0.4628932 , 0.47057994,\n",
       "       0.4654554 , 0.47541651, 0.45903147, 0.46097541, 0.4705475 ,\n",
       "       0.47667932, 0.47273705, 0.46098818, 0.47460118, 0.46518767,\n",
       "       0.46672101, 0.47105975, 0.47142059, 0.46228059, 0.46709761,\n",
       "       0.4666856 , 0.46611763, 0.46633004, 0.46025071, 0.46236103,\n",
       "       0.46119998, 0.46662432, 0.45652577, 0.47602624, 0.46073313,\n",
       "       0.47832587, 0.46043342, 0.47390387, 0.4758384 , 0.47507342,\n",
       "       0.46749362, 0.47193779, 0.46360194, 0.4607721 , 0.4712989 ,\n",
       "       0.46745972, 0.46432857, 0.47368708, 0.46504791, 0.47058617,\n",
       "       0.4758289 , 0.46188608, 0.48453903, 0.46172092, 0.46114943,\n",
       "       0.4582522 , 0.46203974, 0.46821606, 0.46840447, 0.46004592,\n",
       "       0.46795872, 0.47325502, 0.47604464, 0.47793764, 0.46548067,\n",
       "       0.46680503, 0.47899978, 0.46342424, 0.46838336, 0.45630079,\n",
       "       0.47613611, 0.46394675, 0.46883599, 0.47958656, 0.46370851,\n",
       "       0.4713375 , 0.45879482, 0.46037392, 0.47408549, 0.47649215,\n",
       "       0.46681533, 0.47016911, 0.47652418, 0.46981932, 0.46311651,\n",
       "       0.47660397, 0.45588893, 0.46291585, 0.47397365, 0.47844458,\n",
       "       0.45737243, 0.45926872, 0.45287226, 0.46382881, 0.46395034,\n",
       "       0.45973701, 0.47235205, 0.47043857, 0.46665596, 0.46599116,\n",
       "       0.46514119, 0.46238897, 0.46715797, 0.46399147, 0.46418083,\n",
       "       0.464796  , 0.4666287 , 0.47121699, 0.47815169, 0.47917635,\n",
       "       0.46234471, 0.47668667, 0.4686532 , 0.46535616, 0.47836283,\n",
       "       0.48024774, 0.47718299, 0.46720153, 0.46491163, 0.45661705,\n",
       "       0.47091932, 0.46670692, 0.47720421, 0.46136144, 0.47064323,\n",
       "       0.46483005, 0.46959455, 0.46043675, 0.45743418, 0.47043084,\n",
       "       0.4728994 , 0.47031239, 0.46530907, 0.45383323, 0.47233061,\n",
       "       0.4729538 , 0.47167894, 0.46351899, 0.46219155, 0.48447492,\n",
       "       0.45751161, 0.47516763, 0.47423597, 0.46704204, 0.47383351,\n",
       "       0.46947669, 0.47006812, 0.46783481, 0.46092442, 0.4748448 ,\n",
       "       0.47834328, 0.47174678, 0.47252196, 0.46937502, 0.49104118,\n",
       "       0.47233975, 0.46443612, 0.48082892, 0.46527606, 0.45491401,\n",
       "       0.4742464 , 0.47657689, 0.4555835 , 0.45821374, 0.47915888,\n",
       "       0.47299907, 0.4706244 , 0.46328543, 0.46786631, 0.46721325,\n",
       "       0.47997943, 0.45731559, 0.46542981, 0.47610385, 0.46011744,\n",
       "       0.45608525, 0.46816992, 0.46424013, 0.46976168, 0.46997661,\n",
       "       0.4670433 , 0.45823867, 0.46201086, 0.47279536, 0.46795006,\n",
       "       0.4733447 , 0.46982096, 0.45902895, 0.46346749, 0.47830169,\n",
       "       0.47868641, 0.4566894 , 0.45868954, 0.46739944, 0.47491691,\n",
       "       0.46753816, 0.45760642, 0.45453657, 0.46646573, 0.46209028,\n",
       "       0.47917752, 0.4678332 , 0.46988866, 0.4759193 , 0.47014428,\n",
       "       0.47562508, 0.45918588, 0.4746488 , 0.46452545, 0.47282944,\n",
       "       0.4793651 , 0.47049665, 0.46692184, 0.46346289, 0.46289782,\n",
       "       0.47017478, 0.46180698, 0.46305432, 0.46591185, 0.47663967,\n",
       "       0.47673571, 0.46592245, 0.47038398, 0.45971586, 0.47048457,\n",
       "       0.47612595, 0.47325692, 0.45977589, 0.46618456, 0.48308936,\n",
       "       0.47262353, 0.4790222 , 0.45854493, 0.47348933, 0.47568918,\n",
       "       0.46967834, 0.48242868, 0.45969059, 0.4702208 , 0.46197501,\n",
       "       0.45918664, 0.47445451, 0.46813387, 0.46363948, 0.45575158,\n",
       "       0.45829005, 0.47583574, 0.45751639, 0.4691706 , 0.46603697,\n",
       "       0.46443844, 0.46919687, 0.47667234, 0.46866061, 0.46369222,\n",
       "       0.46005212, 0.47514397, 0.46537521, 0.46311927, 0.46467778,\n",
       "       0.46755374, 0.46671606, 0.47277089, 0.46210391, 0.46935475,\n",
       "       0.46976903, 0.45981096, 0.46503104, 0.47662911, 0.46526954,\n",
       "       0.459733  , 0.46052667, 0.47664519, 0.45761935, 0.46047556,\n",
       "       0.46387063, 0.47106851, 0.45824004, 0.45668359, 0.46298411,\n",
       "       0.46390736, 0.46825663, 0.46747924, 0.44896554, 0.4621046 ,\n",
       "       0.47515161, 0.46751028, 0.46393758, 0.47663197, 0.47360344,\n",
       "       0.46472184, 0.47322281, 0.47953232, 0.45557049, 0.47408493,\n",
       "       0.46012884, 0.46348593, 0.46224864, 0.48336886, 0.46535471,\n",
       "       0.47458689, 0.46354477, 0.45648908, 0.4672145 , 0.47784957])"
      ]
     },
     "execution_count": 59,
     "metadata": {},
     "output_type": "execute_result"
    }
   ],
   "source": [
    "MAD_boot = calculating_statistics_for_samples(MAD_samples, calculating_MAD)\n",
    "MAD_boot"
   ]
  },
  {
   "cell_type": "code",
   "execution_count": 60,
   "id": "73ce5a87",
   "metadata": {},
   "outputs": [
    {
     "data": {
      "text/plain": [
       "1000"
      ]
     },
     "execution_count": 60,
     "metadata": {},
     "output_type": "execute_result"
    }
   ],
   "source": [
    "MAD_boot.size"
   ]
  },
  {
   "cell_type": "code",
   "execution_count": 61,
   "id": "d33f3eff",
   "metadata": {},
   "outputs": [],
   "source": [
    "alpha1 = 0.025\n",
    "q1 = np.quantile(MAD_boot, alpha1)\n",
    "q2 = np.quantile(MAD_boot, 1-alpha1)  "
   ]
  },
  {
   "cell_type": "code",
   "execution_count": 78,
   "id": "d3b25f8f",
   "metadata": {},
   "outputs": [
    {
     "data": {
      "image/png": "[encoded data removed]",
      "text/plain": [
       "<Figure size 640x480 with 1 Axes>"
      ]
     },
     "metadata": {},
     "output_type": "display_data"
    }
   ],
   "source": [
    "plt.hist(MAD_boot, bins = 'auto',  density=False)\n",
    "\n",
    "plt.axvline(q1, color = 'green', linestyle='dashed', linewidth = 2, label = \"Q1 (2,5%)\")\n",
    "plt.axvline(q2, color = 'green', linestyle='dashed', linewidth = 2, label = \"Q2 (97.5%)\")\n",
    "\n",
    "plt.title('ДИ MAD')\n",
    "plt.xlabel('значения MAD')\n",
    "plt.ylabel('количество')\n",
    "\n",
    "plt.show()"
   ]
  },
  {
   "cell_type": "markdown",
   "id": "8733aa78",
   "metadata": {},
   "source": [
    "### 95% ДИ для выборочной дисперсии"
   ]
  },
  {
   "cell_type": "code",
   "execution_count": 63,
   "id": "ad67d695",
   "metadata": {},
   "outputs": [
    {
     "data": {
      "text/plain": [
       "(1000, 10000)"
      ]
     },
     "execution_count": 63,
     "metadata": {},
     "output_type": "execute_result"
    }
   ],
   "source": [
    "Dispersion_samples = generating_bootstrap_sample(x, 10**3)\n",
    "Dispersion_samples.shape"
   ]
  },
  {
   "cell_type": "code",
   "execution_count": 70,
   "id": "993d0554",
   "metadata": {},
   "outputs": [],
   "source": [
    "def calculating_Dispersion(data):\n",
    "    \"\"\"\n",
    "    The function is calculating sample dispersion for data.\n",
    "    Parametrs: \n",
    "    data: sample for which need to be calculated sample dispersion\n",
    "    \n",
    "    returns:\n",
    "    sample dispersion\n",
    "    \"\"\"\n",
    "    x_mean = np.mean(data)\n",
    "    S_2 = (np.sum((data - x_mean)**2))/data.size\n",
    "    return S_2"
   ]
  },
  {
   "cell_type": "code",
   "execution_count": 71,
   "id": "c0cab1b1",
   "metadata": {},
   "outputs": [
    {
     "data": {
      "text/plain": [
       "array([0.94011124, 0.94193518, 0.93736534, 0.99192077, 0.95172561,\n",
       "       0.95067652, 0.95891841, 0.95834945, 0.9444703 , 0.92451194,\n",
       "       0.96689656, 0.94076215, 0.97668642, 0.96624402, 0.96613985,\n",
       "       0.97397108, 0.96970251, 0.93634584, 0.90530841, 0.99814143,\n",
       "       0.9794822 , 0.94700745, 1.00065304, 0.96127283, 0.95713847,\n",
       "       0.95436324, 0.95552985, 0.92810153, 0.96128119, 0.94311765,\n",
       "       0.95449441, 0.94052086, 0.99180861, 0.96775942, 0.954301  ,\n",
       "       0.96510009, 0.9568763 , 0.96642835, 0.93729297, 0.95566837,\n",
       "       0.95095325, 0.95508789, 0.91764234, 0.93997251, 0.96621454,\n",
       "       0.92066164, 0.93830248, 0.96568707, 0.95846186, 0.96964826,\n",
       "       1.00051735, 0.93082787, 1.00778791, 0.96153947, 0.94610822,\n",
       "       0.9298047 , 0.96363805, 0.96036618, 0.93120213, 0.97319927,\n",
       "       0.98533669, 0.9610524 , 0.9373081 , 0.94701224, 0.96210898,\n",
       "       0.94894302, 0.92920291, 0.94486854, 0.95759955, 0.92361642,\n",
       "       0.95345779, 0.92454366, 0.95837491, 0.93456626, 0.94701353,\n",
       "       0.93100292, 0.96138159, 0.9333715 , 0.91631774, 0.92252127,\n",
       "       0.950992  , 1.00149588, 0.90284389, 1.00415118, 0.96842289,\n",
       "       0.98101742, 0.96622643, 0.97946817, 0.95295331, 0.94872744,\n",
       "       0.93096578, 0.95603778, 0.96637769, 0.91655913, 0.93608469,\n",
       "       0.94313242, 0.982417  , 0.9287441 , 0.94647633, 0.92776087,\n",
       "       0.92760409, 0.98656617, 0.906703  , 0.94917474, 0.96091919,\n",
       "       0.95688611, 0.99470439, 0.94191961, 0.92531589, 0.9504603 ,\n",
       "       0.94113945, 0.93230502, 0.93072032, 0.94251225, 0.928731  ,\n",
       "       0.98824972, 0.94630306, 0.94459068, 0.98175791, 0.92439444,\n",
       "       0.97809804, 0.93296236, 0.97551666, 0.99724919, 0.92354962,\n",
       "       0.96735031, 0.9492656 , 0.97367633, 0.97043306, 0.92608592,\n",
       "       0.94680274, 0.91097788, 0.9449289 , 0.97294079, 0.94496877,\n",
       "       0.94483782, 0.97108687, 0.93902784, 0.91689264, 0.95060995,\n",
       "       0.9612044 , 0.95840758, 0.94848232, 0.92397815, 1.00828473,\n",
       "       0.90950862, 0.95065509, 0.979392  , 0.94181101, 0.9376292 ,\n",
       "       0.92731094, 0.92450625, 0.9490769 , 0.95951216, 0.93430443,\n",
       "       0.93506103, 0.93767464, 0.93936592, 0.92687664, 0.93865703,\n",
       "       0.95469888, 0.87212822, 0.9253088 , 0.96159638, 0.94445725,\n",
       "       0.94560685, 0.94764844, 0.93457797, 0.93585352, 0.96839184,\n",
       "       0.91959819, 0.95947682, 0.95635347, 0.98580618, 0.98274109,\n",
       "       0.96665328, 0.98227753, 0.92481264, 0.93003089, 0.96424976,\n",
       "       0.92048038, 0.94674895, 1.02365818, 0.92658556, 0.91398591,\n",
       "       0.9877227 , 0.92026889, 0.98279529, 0.94168484, 0.93463285,\n",
       "       0.94935128, 0.96331626, 1.01595618, 0.92150417, 0.94375924,\n",
       "       0.92525967, 0.95784059, 0.98559795, 0.95898732, 0.92213482,\n",
       "       0.96613956, 0.93221558, 0.99495838, 0.93065873, 0.9158932 ,\n",
       "       0.95071077, 0.96069089, 0.96216548, 0.96625879, 0.93413607,\n",
       "       0.98452696, 0.95088666, 0.91967485, 0.96594357, 0.9508642 ,\n",
       "       0.9207859 , 0.85388673, 0.96345747, 0.93031117, 0.96782016,\n",
       "       0.92749644, 0.92578212, 1.00031417, 0.91872191, 0.96589706,\n",
       "       0.94808149, 0.96276561, 0.94299863, 0.96632672, 0.94322976,\n",
       "       0.96203189, 0.96350892, 1.00308736, 1.00621212, 0.95826787,\n",
       "       0.94760065, 0.98711725, 0.96590397, 0.94327885, 0.92786346,\n",
       "       0.94412967, 1.00476218, 0.97105809, 0.94205786, 0.94112888,\n",
       "       0.9327212 , 0.94704299, 0.90415336, 0.93067836, 0.97274715,\n",
       "       0.94205813, 0.96451495, 0.97701721, 0.95430831, 0.94890085,\n",
       "       0.91357261, 0.98510654, 0.96964529, 0.99988992, 0.9549582 ,\n",
       "       0.97133958, 0.99484012, 0.95290735, 0.97922887, 0.92756747,\n",
       "       0.91955103, 0.94352827, 1.02231636, 0.93294378, 0.95103383,\n",
       "       0.95853995, 0.96621574, 0.98785547, 0.92992936, 0.92528395,\n",
       "       0.97525565, 0.94857321, 0.9130213 , 0.97614339, 0.92882368,\n",
       "       0.96194083, 0.93674617, 0.95556302, 0.96192864, 0.88674278,\n",
       "       0.93505899, 0.94418031, 0.96786118, 0.95736632, 0.93457003,\n",
       "       0.95251216, 0.95399021, 0.98878497, 0.93437896, 0.99386963,\n",
       "       0.94358831, 0.96071871, 0.92756956, 0.89778093, 0.94646777,\n",
       "       0.94040103, 0.93866191, 0.95846479, 0.88957557, 0.9156044 ,\n",
       "       0.94231992, 0.9567921 , 0.92413723, 0.92724747, 0.95266144,\n",
       "       0.97743338, 0.98808097, 0.99195842, 0.94512531, 0.94638621,\n",
       "       0.9575582 , 0.95834383, 0.9301466 , 0.95662985, 0.92133477,\n",
       "       0.93285411, 0.99893863, 0.95144881, 0.96202598, 0.9495263 ,\n",
       "       0.91335668, 1.00248138, 0.94578508, 0.93822596, 0.9616718 ,\n",
       "       0.96921769, 0.97333866, 0.98122032, 0.96843981, 0.950994  ,\n",
       "       0.94954383, 0.97949693, 0.9311574 , 0.92485269, 0.95461534,\n",
       "       0.92055118, 0.93213451, 0.96704221, 0.97269452, 0.99234583,\n",
       "       0.97494713, 0.9107632 , 0.94860595, 0.90757864, 0.97456258,\n",
       "       0.93337994, 0.94383224, 1.01503033, 0.96507417, 0.95966597,\n",
       "       0.9644238 , 0.89830256, 1.02557731, 0.96592013, 0.98760514,\n",
       "       0.96091204, 0.94978822, 0.9385163 , 0.96073797, 0.93154388,\n",
       "       0.85444187, 0.96248548, 0.93213253, 1.03090101, 0.94870339,\n",
       "       0.895572  , 0.94768461, 0.95958807, 0.91842925, 1.0201582 ,\n",
       "       0.96480814, 0.95502369, 0.95035362, 0.96149942, 0.9414943 ,\n",
       "       0.92627037, 0.92290308, 0.93495727, 0.94897087, 0.90542839,\n",
       "       0.97223483, 0.96942267, 0.90854897, 0.949521  , 0.92936496,\n",
       "       0.96601873, 0.9640752 , 0.99640905, 0.99397345, 0.94346754,\n",
       "       0.93754593, 0.97352945, 0.92102895, 0.90856473, 0.91182128,\n",
       "       0.98017682, 0.98137026, 0.93747494, 0.98293265, 0.92116696,\n",
       "       0.93216167, 0.96071038, 1.02152281, 0.95892279, 0.93846729,\n",
       "       0.90768592, 0.97675551, 0.98375748, 0.97758508, 0.97022531,\n",
       "       0.95366289, 0.94022731, 0.96402008, 0.96552273, 0.97728552,\n",
       "       0.97784518, 0.98726632, 0.94951022, 0.94997627, 0.91163221,\n",
       "       0.9799101 , 0.94528363, 0.94895379, 0.96433039, 0.91132667,\n",
       "       0.91596093, 0.98023707, 0.91002253, 0.956082  , 0.93065878,\n",
       "       0.94149175, 0.99266373, 0.93441938, 0.92632232, 0.96024948,\n",
       "       0.94535744, 0.91678673, 0.95391471, 0.93661268, 0.90990449,\n",
       "       1.00640217, 0.90300097, 0.908113  , 0.94644615, 0.9830427 ,\n",
       "       0.97722921, 0.92123333, 0.9460305 , 0.95697428, 0.96817057,\n",
       "       0.93656379, 0.9853246 , 0.94048072, 0.94336472, 0.96252645,\n",
       "       0.96526541, 0.95550759, 0.97336529, 0.96733612, 0.94944379,\n",
       "       0.9511782 , 0.95371081, 0.93951041, 0.9996223 , 0.95046604,\n",
       "       0.99614096, 0.96010777, 0.94560561, 1.02088262, 0.93529169,\n",
       "       0.95987917, 0.99159415, 0.93254357, 1.00458134, 0.95829057,\n",
       "       0.95273026, 0.90717761, 0.91957338, 0.94577477, 0.96155758,\n",
       "       0.92604165, 0.94523445, 0.93825872, 0.9317745 , 0.97532765,\n",
       "       0.95700652, 0.92976614, 0.9263032 , 0.92599506, 0.89555101,\n",
       "       0.88948858, 0.96161206, 0.90367083, 0.97424639, 0.95009157,\n",
       "       0.98299653, 0.94996021, 0.94549704, 0.96871861, 0.9662408 ,\n",
       "       0.98260878, 0.88783982, 0.97931586, 0.9516608 , 0.93785279,\n",
       "       0.91739021, 0.93088138, 0.97672161, 0.96582534, 0.98299979,\n",
       "       0.95628661, 0.88662596, 0.98760532, 0.93560219, 0.95920167,\n",
       "       0.97237703, 0.9578788 , 1.005575  , 0.9819084 , 0.94358404,\n",
       "       0.93016224, 0.94862379, 0.93089784, 0.98015611, 0.91977153,\n",
       "       0.96647596, 0.98145522, 0.96419001, 0.94964981, 0.94930328,\n",
       "       0.94443521, 0.91239552, 0.96022469, 0.9422409 , 0.94231197,\n",
       "       0.96358212, 0.97567808, 0.95548115, 0.93525811, 0.9751696 ,\n",
       "       0.94526099, 0.96798862, 0.97328505, 0.95657261, 0.96412053,\n",
       "       0.97631236, 0.89935654, 0.94604107, 0.95123422, 0.94916119,\n",
       "       0.8973212 , 0.95826306, 0.93229403, 0.96552299, 0.93578591,\n",
       "       0.95208737, 0.95294043, 0.9314068 , 0.93124211, 0.94347749,\n",
       "       0.91776902, 0.97399149, 0.93491707, 0.97365156, 0.94627927,\n",
       "       0.96402699, 1.00330217, 0.95038347, 0.93984995, 0.94699883,\n",
       "       0.9717486 , 0.95620499, 0.95180448, 0.91820523, 0.92308391,\n",
       "       0.93277274, 0.93677009, 0.96431309, 0.95593063, 0.96753923,\n",
       "       0.95657683, 0.95151042, 0.97602019, 0.91557534, 0.98507458,\n",
       "       0.96070707, 0.9419254 , 0.94321501, 0.94621953, 0.90483572,\n",
       "       0.95969919, 0.95345158, 0.94438708, 0.9216051 , 0.9352213 ,\n",
       "       0.91012367, 0.92797369, 0.96185272, 0.96541176, 0.93668296,\n",
       "       0.96278615, 1.02339363, 0.95959224, 0.9621094 , 0.93847981,\n",
       "       0.97402404, 0.92477129, 0.95803747, 0.94008115, 0.93217989,\n",
       "       0.94544865, 0.93865463, 0.93675492, 0.96724374, 0.9520127 ,\n",
       "       0.97896497, 0.93012893, 0.91534232, 0.97496937, 0.97756825,\n",
       "       1.05704311, 0.95579763, 0.96518914, 0.972251  , 0.96127457,\n",
       "       0.97005746, 0.94819099, 0.91161397, 1.01283639, 0.96955076,\n",
       "       0.98337185, 0.9265469 , 0.94794067, 0.91855036, 0.91710043,\n",
       "       0.96816169, 0.9754596 , 0.96907319, 0.93085636, 0.94893799,\n",
       "       0.97503669, 0.99071359, 0.91270209, 1.02561802, 0.97268428,\n",
       "       0.92424351, 0.94348527, 0.92881113, 0.95490225, 0.98793869,\n",
       "       0.92260809, 0.9730912 , 0.97245283, 0.91735319, 0.926406  ,\n",
       "       0.91201855, 0.9817453 , 0.9280705 , 0.94416407, 0.89449683,\n",
       "       0.94608314, 0.91774132, 0.93340501, 0.95333862, 0.99326806,\n",
       "       0.93965976, 0.93654429, 0.97844581, 0.94799921, 0.97037827,\n",
       "       0.90678555, 0.97313382, 0.94040384, 0.93217647, 0.93969956,\n",
       "       0.95327868, 0.89487176, 0.92275888, 0.95084018, 0.9347131 ,\n",
       "       0.9347885 , 0.95772312, 0.95053387, 0.96036432, 0.93381619,\n",
       "       0.96890106, 0.92634265, 0.92709991, 0.95353663, 0.95775861,\n",
       "       0.91430904, 0.9493439 , 0.93459581, 0.93721729, 0.98396431,\n",
       "       0.95193621, 0.95574856, 0.89972977, 0.95015383, 0.94425018,\n",
       "       0.90428675, 0.94546647, 0.93897575, 0.95687491, 0.97253792,\n",
       "       1.01249382, 0.94178455, 0.98205509, 0.95235854, 0.91730971,\n",
       "       0.96139248, 0.94973912, 0.92184707, 0.91790555, 0.93917636,\n",
       "       0.95840075, 0.90160619, 0.9644725 , 0.97742604, 0.95879714,\n",
       "       0.94762015, 0.94875527, 0.96928968, 0.96713341, 0.98594275,\n",
       "       0.9638601 , 0.90738272, 0.9737771 , 0.94413268, 0.99043777,\n",
       "       0.94882872, 0.94068038, 0.90285816, 0.94481982, 0.89827895,\n",
       "       1.02050043, 0.95992163, 0.96251545, 0.91789012, 0.91788221,\n",
       "       0.92262197, 0.95539299, 0.92739598, 0.93943112, 0.94284388,\n",
       "       1.00157536, 0.96196583, 0.95066811, 0.98366177, 0.9057529 ,\n",
       "       0.95849097, 0.97336988, 0.93286996, 0.99156786, 0.93646151,\n",
       "       0.9868591 , 0.94011555, 0.97477043, 0.92836856, 0.97174632,\n",
       "       0.97546512, 0.92076519, 0.98325846, 0.92808602, 0.93342343,\n",
       "       0.90495971, 0.93376133, 0.94853963, 0.97867418, 0.96828147,\n",
       "       0.93565338, 0.94818494, 0.97741149, 0.96058981, 0.94545716,\n",
       "       0.93956735, 0.93750028, 0.91649945, 0.92545738, 0.97303377,\n",
       "       0.96719427, 0.98991393, 0.97032192, 0.99979375, 0.96525193,\n",
       "       0.95760145, 0.93586649, 0.93579146, 0.90168635, 0.93736232,\n",
       "       0.91284804, 0.97387224, 0.92146683, 0.91872422, 0.97369122,\n",
       "       0.92663791, 0.97554575, 0.93244721, 0.99101574, 0.93668735,\n",
       "       0.89579576, 0.90250217, 0.94273905, 0.9399399 , 0.99585408,\n",
       "       0.97602281, 0.91937783, 0.93183984, 0.90176031, 0.9171039 ,\n",
       "       0.97506753, 0.96646268, 0.98567634, 0.9218668 , 0.94637253,\n",
       "       0.91245567, 0.94097511, 0.95566938, 0.94969026, 0.96972724,\n",
       "       0.92227132, 0.92949693, 0.9266146 , 0.96699112, 0.9854128 ,\n",
       "       0.95913062, 0.95931249, 0.99059035, 0.93415923, 0.96438538,\n",
       "       0.91628536, 0.96797117, 0.94231622, 0.96539982, 0.99965874,\n",
       "       0.97867037, 0.9337177 , 0.95441509, 0.98173619, 0.913053  ,\n",
       "       0.92851184, 0.96039868, 0.91000281, 0.95080099, 0.92082072,\n",
       "       0.98554903, 1.00519856, 1.0128944 , 0.93824327, 0.9517235 ,\n",
       "       0.95767946, 0.97264297, 0.94912324, 0.96561739, 0.94672761,\n",
       "       0.92310906, 0.91129203, 0.98916726, 0.98547721, 0.95952824,\n",
       "       0.91704128, 0.90650108, 0.98920687, 0.9775798 , 0.97930674,\n",
       "       0.95960873, 0.97307875, 0.91101577, 0.94171767, 0.92564002,\n",
       "       0.96832852, 0.9732483 , 0.91137468, 0.92734747, 0.91959718,\n",
       "       0.99576513, 0.92878119, 0.91286792, 0.94468527, 0.99526638,\n",
       "       0.99674245, 0.92827606, 0.93590855, 0.98709478, 0.93378932,\n",
       "       0.89402941, 0.94347171, 0.93437081, 0.97436977, 0.96842938,\n",
       "       0.89881479, 0.94766404, 0.95391092, 0.97323884, 0.95955542,\n",
       "       0.93759693, 0.96464505, 0.90277707, 0.92917415, 0.91553001,\n",
       "       0.95733534, 0.92968158, 0.9431535 , 0.94046722, 0.93257896,\n",
       "       0.95153338, 0.98172109, 0.95625218, 0.94116611, 1.0016476 ,\n",
       "       0.98516168, 0.92945845, 0.92291404, 0.95385959, 0.92852833,\n",
       "       0.95952485, 0.98054089, 0.93986979, 0.99300173, 0.95589395,\n",
       "       0.98675143, 0.95919261, 0.94843446, 0.94019077, 0.90251764,\n",
       "       0.92912048, 0.92184865, 0.92030356, 0.94265891, 0.98541163,\n",
       "       0.98179634, 0.9826897 , 0.96860488, 0.91787834, 0.95529501,\n",
       "       0.97837391, 0.98523713, 0.9486117 , 0.96897437, 0.95444449,\n",
       "       0.98512537, 0.9247121 , 0.95251466, 0.95056396, 0.94640334,\n",
       "       0.95766092, 0.9622215 , 0.92524758, 0.96579402, 0.95416285,\n",
       "       0.95087377, 0.93341536, 0.97005462, 0.91778556, 0.92341401,\n",
       "       0.92850523, 0.88242551, 0.95045512, 0.93424723, 0.98999568,\n",
       "       0.91743477, 0.96549878, 0.90669847, 1.01602436, 0.97808341,\n",
       "       0.90251917, 0.94026932, 0.91210226, 0.94878644, 0.93705348,\n",
       "       0.89271385, 0.90519792, 0.97061164, 0.91337064, 0.91086456,\n",
       "       0.97498275, 0.96467486, 0.9576422 , 0.94619776, 0.93066077,\n",
       "       0.93967281, 0.95232427, 0.95188766, 0.97775121, 0.92438768,\n",
       "       0.92712741, 0.95118654, 0.97196805, 0.93685659, 0.96582081,\n",
       "       0.97278202, 1.00439259, 1.00542167, 0.90296194, 0.95203853])"
      ]
     },
     "execution_count": 71,
     "metadata": {},
     "output_type": "execute_result"
    }
   ],
   "source": [
    "Dispersion_boot = calculating_statistics_for_samples(Dispersion_samples, calculating_Dispersion)\n",
    "Dispersion_boot"
   ]
  },
  {
   "cell_type": "code",
   "execution_count": 73,
   "id": "7120f756",
   "metadata": {},
   "outputs": [
    {
     "data": {
      "text/plain": [
       "1000"
      ]
     },
     "execution_count": 73,
     "metadata": {},
     "output_type": "execute_result"
    }
   ],
   "source": [
    "Dispersion_boot.size"
   ]
  },
  {
   "cell_type": "code",
   "execution_count": 74,
   "id": "2631942d",
   "metadata": {},
   "outputs": [],
   "source": [
    "alpha2 = 0.025\n",
    "q3 = np.quantile(Dispersion_boot, alpha1)\n",
    "q4 = np.quantile(Dispersion_boot, 1-alpha1)  "
   ]
  },
  {
   "cell_type": "code",
   "execution_count": 77,
   "id": "b20cc954",
   "metadata": {},
   "outputs": [
    {
     "data": {
      "image/png": "[encoded data removed]",
      "text/plain": [
       "<Figure size 640x480 with 1 Axes>"
      ]
     },
     "metadata": {},
     "output_type": "display_data"
    }
   ],
   "source": [
    "plt.hist(Dispersion_boot, bins = 'auto',  density=False)\n",
    "\n",
    "plt.axvline(q3, color = 'green', linestyle='dashed', linewidth = 2, label = \"Q1 (2,5%)\")\n",
    "plt.axvline(q4, color = 'green', linestyle='dashed', linewidth = 2, label = \"Q2 (97.5%)\")\n",
    "\n",
    "plt.title('ДИ выборочной дисперсии')\n",
    "plt.xlabel('значения выборочной дисперсии')\n",
    "plt.ylabel('количество')\n",
    "\n",
    "plt.show()"
   ]
  },
  {
   "cell_type": "code",
   "execution_count": null,
   "id": "51855bc1",
   "metadata": {},
   "outputs": [],
   "source": []
  }
 ],
 "metadata": {
  "kernelspec": {
   "display_name": "Python 3",
   "language": "python",
   "name": "python3"
  },
  "language_info": {
   "codemirror_mode": {
    "name": "ipython",
    "version": 3
   },
   "file_extension": ".py",
   "mimetype": "text/x-python",
   "name": "python",
   "nbconvert_exporter": "python",
   "pygments_lexer": "ipython3",
   "version": "3.12.5"
  }
 },
 "nbformat": 4,
 "nbformat_minor": 5
}
